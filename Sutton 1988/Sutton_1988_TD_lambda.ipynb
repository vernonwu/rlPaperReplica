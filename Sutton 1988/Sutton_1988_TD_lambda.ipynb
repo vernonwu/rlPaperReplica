{
 "cells": [
  {
   "cell_type": "markdown",
   "metadata": {},
   "source": [
    "# Learning to Predict by the Methods of Temporal Differences"
   ]
  },
  {
   "cell_type": "markdown",
   "metadata": {},
   "source": [
    "## Background"
   ]
  },
  {
   "cell_type": "markdown",
   "metadata": {},
   "source": [
    "### Theory\n",
    "observation-outcome sequence: $x_1, x_2, x_3, \\ldots, x_m, z$\n",
    "\n",
    "Prediction: $P\\left(x_t, w\\right)$\n",
    "\n",
    "for each sequence, produce prediction $P_1, P_2, P_3, \\ldots, P_m$\n",
    "\n",
    "Update:\n",
    "\n",
    "$$w \\leftarrow w+\\sum_{t=1}^m \\Delta w_t$$\n",
    "\n",
    "$\\mathrm{TD(1)}$:\n",
    "\n",
    "$z-P_t=\\sum_{k=t}^m\\left(P_{k+1}-P_k\\right) \\quad$ where $\\quad P_{m+1} \\stackrel{\\text { def }}{=} z$\n",
    "\n",
    "therefore\n",
    "\n",
    "$$\\begin{aligned} w \\leftarrow w+\\sum_{t=1}^m \\alpha\\left(z-P_t\\right) \\nabla_w P_t & =w+\\sum_{t=1}^m \\alpha \\sum_{k=t}^m\\left(P_{k+1}-P_k\\right) \\nabla_w P_t \\\\ & =w+\\sum_{k=1}^m \\alpha \\sum_{t=1}^k\\left(P_{k+1}-P_k\\right) \\nabla_w P_t \\\\ & =w+\\sum_{t=1}^m \\alpha\\left(P_{t+1}-P_t\\right) \\sum_{k=1}^t \\nabla_w P_k\\end{aligned}$$\n",
    "\n",
    "or:\n",
    "\n",
    "$$\\Delta w_t=\\alpha\\left(P_{t+1}-P_t\\right) \\sum_{k=1}^t \\nabla_w P_k$$\n",
    "\n",
    "$\\mathrm{TD(\\lambda)}$:\n",
    "\n",
    "Consider an exponential decayed weighting with recency:\n",
    "\n",
    "$$\\Delta w_t=\\alpha\\left(P_{t+1}-P_t\\right) \\sum_{k=1}^t \\lambda^{t-k} \\nabla_w P_k$$\n",
    "\n",
    "def: $\\quad e_t$ = $\\sum_{k=1}^t \\lambda^{t-k} \\nabla_w P_k$\n",
    "\n",
    "then: $\\quad e_{t+1} = \\lambda e_t + \\nabla_w P_{t+1}$"
   ]
  },
  {
   "cell_type": "markdown",
   "metadata": {},
   "source": [
    "### Bounded Random Walk\n",
    "All walks begin in state $D$. From states $B$, $C, D, E$, and $F$, the walk has a $50-50$ chance of moving either to the right or to the left. If either edge state, $A$ or $G$, is entered, then the walk terminates. We wish to estimate the probabilities of a walk ending in the rightmost state, $G$, given that it is in each of the other states.\n",
    "\n",
    "![bounded_random_walk.png](https://s2.loli.net/2024/03/20/ri3gvmLDYMKnc2T.png)\n",
    "\n",
    "- State value function:\n",
    "\n",
    "    For each non-terminal state $i$, there was a corresponding observation vector $\\mathbf{x}_i$; if the walk was in state $i$ at time $t$ then $x_t=\\mathbf{x}_i$.\n",
    "\n",
    "    In this case, the vectors $\\left\\{\\mathbf{x}_i\\right\\}$ were the **unit basis vectors** of length 5.\n",
    "\n",
    "    $P_t=w^T x_t = w_i$"
   ]
  },
  {
   "cell_type": "markdown",
   "metadata": {},
   "source": [
    "## Experiment 1\n",
    "\n",
    "- $w$ updated only after the **complete** presentation of a training set\n",
    "- Each training set was presented repeatedly until convergence."
   ]
  },
  {
   "cell_type": "code",
   "execution_count": 54,
   "metadata": {},
   "outputs": [],
   "source": [
    "import numpy as np\n",
    "\n",
    "random_seed = 42\n",
    "np.random.seed(random_seed)\n",
    "# start at D\n",
    "start_pos = 2\n",
    "# training sets\n",
    "batch = 100\n",
    "batch_size = 10\n",
    "# theoretical probability\n",
    "P_ideal = np.array([1/6, 1/3, 1/2, 2/3, 5/6])\n",
    "\n",
    "lambdas = [0, 0.1, 0.3, 0.5, 0.7, 0.9, 1]\n",
    "\n",
    "def prediction(w, current_pos):\n",
    "    return w[current_pos]\n",
    "\n",
    "def state_value(w, current_pos):\n",
    "    if current_pos == -1:\n",
    "        return 0\n",
    "    elif current_pos == 5:\n",
    "        return 1\n",
    "    else:\n",
    "        return prediction(w, current_pos)\n",
    "\n",
    "def update_weights(w, current_pos, next_pos, alpha, lamb, e):\n",
    "    delta_w = np.zeros(5)\n",
    "    delta_e = np.zeros(5)\n",
    "    delta_e[current_pos] = 1\n",
    "    e = lamb * e + delta_e\n",
    "    delta_w = alpha * (state_value(w, next_pos) - state_value(w, current_pos)) * e\n",
    "    return delta_w, e"
   ]
  },
  {
   "cell_type": "markdown",
   "metadata": {},
   "source": [
    "### Data generation"
   ]
  },
  {
   "cell_type": "code",
   "execution_count": 55,
   "metadata": {},
   "outputs": [],
   "source": [
    "def generate_sequence(start_pos = 2):\n",
    "    current_pos = start_pos\n",
    "    sequence = [current_pos]\n",
    "    while True:\n",
    "        action = np.random.choice([-1,1])\n",
    "        current_pos += action\n",
    "        sequence.append(current_pos)\n",
    "        if current_pos == -1 or current_pos == 5:\n",
    "            return sequence\n",
    "\n",
    "def generate_data(batch, batch_size):\n",
    "    data = []\n",
    "    for i in range(batch):\n",
    "        batch_data = []\n",
    "        for j in range(batch_size):\n",
    "            batch_data.append(generate_sequence())\n",
    "        data.append(batch_data)\n",
    "    return data\n",
    "\n",
    "data = generate_data(batch, batch_size)"
   ]
  },
  {
   "cell_type": "code",
   "execution_count": 61,
   "metadata": {},
   "outputs": [
    {
     "data": {
      "text/plain": [
       "[[2, 3, 4, 3, 4, 5],\n",
       " [2, 1, 0, 1, 2, 3, 4, 5],\n",
       " [2, 1, 0, 1, 0, 1, 2, 3, 2, 3, 2, 3, 4, 5]]"
      ]
     },
     "execution_count": 61,
     "metadata": {},
     "output_type": "execute_result"
    }
   ],
   "source": [
    "import random\n",
    "random.sample(data[0], 3)"
   ]
  },
  {
   "cell_type": "code",
   "execution_count": 100,
   "metadata": {},
   "outputs": [],
   "source": [
    "import time\n",
    "\n",
    "def rms_error(batch, w, P_ideal):\n",
    "    err = 0\n",
    "    for sequence in batch:\n",
    "        err_list = []\n",
    "        for x in sequence[:-1]:\n",
    "            err_list.append(prediction(w, x) - P_ideal[x])\n",
    "        err += np.sqrt(np.mean(np.square(err_list)))\n",
    "\n",
    "    err /= len(batch)\n",
    "\n",
    "    return err\n",
    "\n",
    "def train(data, alpha, lamb):\n",
    "    # init timer\n",
    "    start = time.time()\n",
    "    # initialize weights\n",
    "    w = np.random.uniform(0,1,5)\n",
    "    err = 0\n",
    "    for batch in data:\n",
    "\n",
    "        while True:\n",
    "            delta_w = np.zeros(5)\n",
    "            for sequence in batch:\n",
    "                e = 0\n",
    "                for idx in range(len(sequence)-1):\n",
    "                    res =  update_weights(w, sequence[idx], sequence[idx+1], alpha, lamb, e)\n",
    "                    delta_w += res[0]\n",
    "                    e = res[1]\n",
    "            w += delta_w\n",
    "            if np.linalg.norm(delta_w) < 0.001:\n",
    "                err += rms_error(batch, w, P_ideal)\n",
    "                break\n",
    "    err /= len(data)\n",
    "    elapsed = round(time.time() - start,3)\n",
    "    print('Finished training for lambda', lamb, 'in', elapsed, 'seconds')\n",
    "    return w, err"
   ]
  },
  {
   "cell_type": "code",
   "execution_count": 101,
   "metadata": {},
   "outputs": [
    {
     "name": "stdout",
     "output_type": "stream",
     "text": [
      "Finished training for lambda 0 in 3.701 seconds\n",
      "Finished training for lambda 0.1 in 3.251 seconds\n",
      "Finished training for lambda 0.3 in 2.94 seconds\n",
      "Finished training for lambda 0.5 in 2.552 seconds\n",
      "Finished training for lambda 0.7 in 2.145 seconds\n",
      "Finished training for lambda 0.9 in 1.719 seconds\n",
      "Finished training for lambda 1 in 1.809 seconds\n"
     ]
    },
    {
     "data": {
      "image/png": "[encoded data removed]",
      "text/plain": [
       "<Figure size 640x480 with 1 Axes>"
      ]
     },
     "metadata": {},
     "output_type": "display_data"
    }
   ],
   "source": [
    "import matplotlib.pyplot as plt\n",
    "\n",
    "def plot_rms_error(lambdas, alpha, data):\n",
    "    rms_errors = []\n",
    "    for lamb in lambdas:\n",
    "        w,err = train(data, alpha, lamb)\n",
    "        rms_errors.append(err)\n",
    "    plt.plot(lambdas, rms_errors)\n",
    "    plt.xlabel('$\\lambda$')\n",
    "    plt.ylabel('ERROR')\n",
    "    plt.scatter(lambdas, rms_errors, color='b')\n",
    "    plt.show()\n",
    "\n",
    "# learning rate\n",
    "alpha = 0.01\n",
    "plot_rms_error(lambdas, alpha, data)"
   ]
  },
  {
   "cell_type": "markdown",
   "metadata": {},
   "source": [
    "### problems/pitfalls during research\n",
    "- Trouble understanding when to update $w$ and repeatedly present training sets.\n",
    "- Need careful selection of (especially)learning rate and convergence conditions!\n",
    "- WTF is this RMS metric???"
   ]
  },
  {
   "cell_type": "markdown",
   "metadata": {},
   "source": [
    "## Experiment 2\n",
    "- same data\n",
    "- each training set was presented once to each procedure\n",
    "- weight updates were performed after each sequence\n",
    "- all components of the weight vector were initially set to $0.5$"
   ]
  },
  {
   "cell_type": "code",
   "execution_count": 103,
   "metadata": {},
   "outputs": [],
   "source": [
    "lrs = np.linspace(0, 0.6, 13)\n",
    "lambdas_2 = [0.3, 0.8, 1.0, 0.0]\n",
    "def train_2(data, alpha, lamb):\n",
    "    # init timer\n",
    "    start = time.time()\n",
    "    # initialize weights to 0.5\n",
    "    w = np.full(5, 0.5)\n",
    "    err = 0\n",
    "    for batch in data:\n",
    "        for sequence in batch:\n",
    "            delta_w = np.zeros(5)\n",
    "            e = 0\n",
    "            for idx in range(len(sequence)-1):\n",
    "                res =  update_weights(w, sequence[idx], sequence[idx+1], alpha, lamb, e)\n",
    "                delta_w += res[0]\n",
    "                e = res[1]\n",
    "            w += delta_w\n",
    "        err += rms_error(batch, w, P_ideal)\n",
    "    err /= len(data)\n",
    "\n",
    "    elapsed = round(time.time() - start,3)\n",
    "    print('Finished training for lambda', lamb, 'at learning rate', alpha, 'in', elapsed, 'seconds')\n",
    "    return w, err\n",
    "\n",
    "\n",
    "def plot_rms_error_2(lambdas_2, lrs, data):\n",
    "    threshold = 0.8\n",
    "    for lamb in lambdas_2:\n",
    "        rms_errors = []\n",
    "        for lr in lrs:\n",
    "            w,err = train_2(data, lr, lamb)\n",
    "            if err > threshold:\n",
    "                break\n",
    "            rms_errors.append(err)\n",
    "        plt.plot(lrs[:len(rms_errors)], np.array(rms_errors), label='$\\lambda$ = ' + str(lamb))\n",
    "        plt.scatter(lrs[:len(rms_errors)], np.array(rms_errors))\n",
    "    plt.legend()\n",
    "    plt.xlabel('α')\n",
    "    plt.ylabel('ERROR')\n",
    "    plt.show()"
   ]
  },
  {
   "cell_type": "code",
   "execution_count": 104,
   "metadata": {},
   "outputs": [
    {
     "name": "stdout",
     "output_type": "stream",
     "text": [
      "Finished training for lambda 0.3 at learning rate 0.0 in 0.075 seconds\n",
      "Finished training for lambda 0.3 at learning rate 0.049999999999999996 in 0.06 seconds\n",
      "Finished training for lambda 0.3 at learning rate 0.09999999999999999 in 0.056 seconds\n",
      "Finished training for lambda 0.3 at learning rate 0.15 in 0.057 seconds\n",
      "Finished training for lambda 0.3 at learning rate 0.19999999999999998 in 0.056 seconds\n",
      "Finished training for lambda 0.3 at learning rate 0.24999999999999997 in 0.053 seconds\n",
      "Finished training for lambda 0.3 at learning rate 0.3 in 0.055 seconds\n",
      "Finished training for lambda 0.3 at learning rate 0.35 in 0.053 seconds\n",
      "Finished training for lambda 0.3 at learning rate 0.39999999999999997 in 0.051 seconds\n",
      "Finished training for lambda 0.3 at learning rate 0.44999999999999996 in 0.059 seconds\n",
      "Finished training for lambda 0.8 at learning rate 0.0 in 0.064 seconds\n",
      "Finished training for lambda 0.8 at learning rate 0.049999999999999996 in 0.053 seconds\n",
      "Finished training for lambda 0.8 at learning rate 0.09999999999999999 in 0.054 seconds\n",
      "Finished training for lambda 0.8 at learning rate 0.15 in 0.052 seconds\n",
      "Finished training for lambda 0.8 at learning rate 0.19999999999999998 in 0.055 seconds\n",
      "Finished training for lambda 0.8 at learning rate 0.24999999999999997 in 0.053 seconds\n",
      "Finished training for lambda 0.8 at learning rate 0.3 in 0.051 seconds\n",
      "Finished training for lambda 0.8 at learning rate 0.35 in 0.053 seconds\n",
      "Finished training for lambda 0.8 at learning rate 0.39999999999999997 in 0.053 seconds\n",
      "Finished training for lambda 0.8 at learning rate 0.44999999999999996 in 0.052 seconds\n",
      "Finished training for lambda 0.8 at learning rate 0.49999999999999994 in 0.055 seconds\n",
      "Finished training for lambda 0.8 at learning rate 0.5499999999999999 in 0.052 seconds\n",
      "Finished training for lambda 1.0 at learning rate 0.0 in 0.057 seconds\n",
      "Finished training for lambda 1.0 at learning rate 0.049999999999999996 in 0.054 seconds\n",
      "Finished training for lambda 1.0 at learning rate 0.09999999999999999 in 0.052 seconds\n",
      "Finished training for lambda 1.0 at learning rate 0.15 in 0.053 seconds\n",
      "Finished training for lambda 1.0 at learning rate 0.19999999999999998 in 0.054 seconds\n",
      "Finished training for lambda 1.0 at learning rate 0.24999999999999997 in 0.056 seconds\n",
      "Finished training for lambda 1.0 at learning rate 0.3 in 0.058 seconds\n",
      "Finished training for lambda 1.0 at learning rate 0.35 in 0.053 seconds\n",
      "Finished training for lambda 1.0 at learning rate 0.39999999999999997 in 0.053 seconds\n",
      "Finished training for lambda 0.0 at learning rate 0.0 in 0.053 seconds\n",
      "Finished training for lambda 0.0 at learning rate 0.049999999999999996 in 0.052 seconds\n",
      "Finished training for lambda 0.0 at learning rate 0.09999999999999999 in 0.053 seconds\n",
      "Finished training for lambda 0.0 at learning rate 0.15 in 0.052 seconds\n",
      "Finished training for lambda 0.0 at learning rate 0.19999999999999998 in 0.057 seconds\n",
      "Finished training for lambda 0.0 at learning rate 0.24999999999999997 in 0.054 seconds\n",
      "Finished training for lambda 0.0 at learning rate 0.3 in 0.055 seconds\n",
      "Finished training for lambda 0.0 at learning rate 0.35 in 0.054 seconds\n"
     ]
    },
    {
     "data": {
      "image/png": "[encoded data removed]",
      "text/plain": [
       "<Figure size 640x480 with 1 Axes>"
      ]
     },
     "metadata": {},
     "output_type": "display_data"
    }
   ],
   "source": [
    "plot_rms_error_2(lambdas_2, lrs, data)"
   ]
  }
 ],
 "metadata": {
  "kernelspec": {
   "display_name": "python311",
   "language": "python",
   "name": "python3"
  },
  "language_info": {
   "codemirror_mode": {
    "name": "ipython",
    "version": 3
   },
   "file_extension": ".py",
   "mimetype": "text/x-python",
   "name": "python",
   "nbconvert_exporter": "python",
   "pygments_lexer": "ipython3",
   "version": "3.11.6"
  }
 },
 "nbformat": 4,
 "nbformat_minor": 2
}
